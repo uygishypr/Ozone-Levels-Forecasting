{
 "cells": [
  {
   "cell_type": "markdown",
   "metadata": {},
   "source": [
    "### Ozone Level Forecasting\n"
   ]
  },
  {
   "cell_type": "markdown",
   "metadata": {},
   "source": [
    "Open the .data file using a text editor, then save with a .csv extension."
   ]
  },
  {
   "cell_type": "code",
   "execution_count": 22,
   "metadata": {},
   "outputs": [],
   "source": [
    "import pandas as pd\n",
    "import numpy as np\n",
    "import re"
   ]
  },
  {
   "cell_type": "code",
   "execution_count": 38,
   "metadata": {},
   "outputs": [
    {
     "data": {
      "text/html": [
       "<div>\n",
       "<style scoped>\n",
       "    .dataframe tbody tr th:only-of-type {\n",
       "        vertical-align: middle;\n",
       "    }\n",
       "\n",
       "    .dataframe tbody tr th {\n",
       "        vertical-align: top;\n",
       "    }\n",
       "\n",
       "    .dataframe thead th {\n",
       "        text-align: right;\n",
       "    }\n",
       "</style>\n",
       "<table border=\"1\" class=\"dataframe\">\n",
       "  <thead>\n",
       "    <tr style=\"text-align: right;\">\n",
       "      <th></th>\n",
       "      <th>1/1/1998</th>\n",
       "      <th>0.8</th>\n",
       "      <th>1.8</th>\n",
       "      <th>2.4</th>\n",
       "      <th>2.1</th>\n",
       "      <th>2</th>\n",
       "      <th>2.1.1</th>\n",
       "      <th>1.5</th>\n",
       "      <th>1.7</th>\n",
       "      <th>1.9</th>\n",
       "      <th>...</th>\n",
       "      <th>0.15</th>\n",
       "      <th>10.67</th>\n",
       "      <th>-1.56</th>\n",
       "      <th>5795</th>\n",
       "      <th>-12.1</th>\n",
       "      <th>17.9</th>\n",
       "      <th>10330</th>\n",
       "      <th>-55</th>\n",
       "      <th>0</th>\n",
       "      <th>0.</th>\n",
       "    </tr>\n",
       "  </thead>\n",
       "  <tbody>\n",
       "    <tr>\n",
       "      <th>0</th>\n",
       "      <td>1/2/1998</td>\n",
       "      <td>2.8</td>\n",
       "      <td>3.2</td>\n",
       "      <td>3.3</td>\n",
       "      <td>2.7</td>\n",
       "      <td>3.3</td>\n",
       "      <td>3.2</td>\n",
       "      <td>2.9</td>\n",
       "      <td>2.8</td>\n",
       "      <td>3.1</td>\n",
       "      <td>...</td>\n",
       "      <td>0.48</td>\n",
       "      <td>8.39</td>\n",
       "      <td>3.84</td>\n",
       "      <td>5805</td>\n",
       "      <td>14.05</td>\n",
       "      <td>29</td>\n",
       "      <td>10275</td>\n",
       "      <td>-55</td>\n",
       "      <td>0</td>\n",
       "      <td>0.0</td>\n",
       "    </tr>\n",
       "    <tr>\n",
       "      <th>1</th>\n",
       "      <td>1/3/1998</td>\n",
       "      <td>2.9</td>\n",
       "      <td>2.8</td>\n",
       "      <td>2.6</td>\n",
       "      <td>2.1</td>\n",
       "      <td>2.2</td>\n",
       "      <td>2.5</td>\n",
       "      <td>2.5</td>\n",
       "      <td>2.7</td>\n",
       "      <td>2.2</td>\n",
       "      <td>...</td>\n",
       "      <td>0.6</td>\n",
       "      <td>6.94</td>\n",
       "      <td>9.8</td>\n",
       "      <td>5790</td>\n",
       "      <td>17.9</td>\n",
       "      <td>41.3</td>\n",
       "      <td>10235</td>\n",
       "      <td>-40</td>\n",
       "      <td>0</td>\n",
       "      <td>0.0</td>\n",
       "    </tr>\n",
       "    <tr>\n",
       "      <th>2</th>\n",
       "      <td>1/4/1998</td>\n",
       "      <td>4.7</td>\n",
       "      <td>3.8</td>\n",
       "      <td>3.7</td>\n",
       "      <td>3.8</td>\n",
       "      <td>2.9</td>\n",
       "      <td>3.1</td>\n",
       "      <td>2.8</td>\n",
       "      <td>2.5</td>\n",
       "      <td>2.4</td>\n",
       "      <td>...</td>\n",
       "      <td>0.49</td>\n",
       "      <td>8.73</td>\n",
       "      <td>10.54</td>\n",
       "      <td>5775</td>\n",
       "      <td>31.15</td>\n",
       "      <td>51.7</td>\n",
       "      <td>10195</td>\n",
       "      <td>-40</td>\n",
       "      <td>2.08</td>\n",
       "      <td>0.0</td>\n",
       "    </tr>\n",
       "    <tr>\n",
       "      <th>3</th>\n",
       "      <td>1/5/1998</td>\n",
       "      <td>2.6</td>\n",
       "      <td>2.1</td>\n",
       "      <td>1.6</td>\n",
       "      <td>1.4</td>\n",
       "      <td>0.9</td>\n",
       "      <td>1.5</td>\n",
       "      <td>1.2</td>\n",
       "      <td>1.4</td>\n",
       "      <td>1.3</td>\n",
       "      <td>...</td>\n",
       "      <td>?</td>\n",
       "      <td>?</td>\n",
       "      <td>?</td>\n",
       "      <td>?</td>\n",
       "      <td>?</td>\n",
       "      <td>?</td>\n",
       "      <td>?</td>\n",
       "      <td>?</td>\n",
       "      <td>0.58</td>\n",
       "      <td>0.0</td>\n",
       "    </tr>\n",
       "    <tr>\n",
       "      <th>4</th>\n",
       "      <td>1/6/1998</td>\n",
       "      <td>3.1</td>\n",
       "      <td>3.5</td>\n",
       "      <td>3.3</td>\n",
       "      <td>2.5</td>\n",
       "      <td>1.6</td>\n",
       "      <td>1.7</td>\n",
       "      <td>1.6</td>\n",
       "      <td>1.6</td>\n",
       "      <td>2.3</td>\n",
       "      <td>...</td>\n",
       "      <td>0.09</td>\n",
       "      <td>11.98</td>\n",
       "      <td>11.28</td>\n",
       "      <td>5770</td>\n",
       "      <td>27.95</td>\n",
       "      <td>46.25</td>\n",
       "      <td>10120</td>\n",
       "      <td>?</td>\n",
       "      <td>5.84</td>\n",
       "      <td>0.0</td>\n",
       "    </tr>\n",
       "  </tbody>\n",
       "</table>\n",
       "<p>5 rows × 74 columns</p>\n",
       "</div>"
      ],
      "text/plain": [
       "   1/1/1998  0.8  1.8  2.4  2.1    2 2.1.1  1.5  1.7  1.9  ...  0.15  10.67  \\\n",
       "0  1/2/1998  2.8  3.2  3.3  2.7  3.3   3.2  2.9  2.8  3.1  ...  0.48   8.39   \n",
       "1  1/3/1998  2.9  2.8  2.6  2.1  2.2   2.5  2.5  2.7  2.2  ...   0.6   6.94   \n",
       "2  1/4/1998  4.7  3.8  3.7  3.8  2.9   3.1  2.8  2.5  2.4  ...  0.49   8.73   \n",
       "3  1/5/1998  2.6  2.1  1.6  1.4  0.9   1.5  1.2  1.4  1.3  ...     ?      ?   \n",
       "4  1/6/1998  3.1  3.5  3.3  2.5  1.6   1.7  1.6  1.6  2.3  ...  0.09  11.98   \n",
       "\n",
       "   -1.56  5795  -12.1   17.9  10330  -55     0   0.  \n",
       "0   3.84  5805  14.05     29  10275  -55     0  0.0  \n",
       "1    9.8  5790   17.9   41.3  10235  -40     0  0.0  \n",
       "2  10.54  5775  31.15   51.7  10195  -40  2.08  0.0  \n",
       "3      ?     ?      ?      ?      ?    ?  0.58  0.0  \n",
       "4  11.28  5770  27.95  46.25  10120    ?  5.84  0.0  \n",
       "\n",
       "[5 rows x 74 columns]"
      ]
     },
     "execution_count": 38,
     "metadata": {},
     "output_type": "execute_result"
    }
   ],
   "source": [
    "data_path = \"../data/onehr.csv\"\n",
    "names_path = \"../data/onehr_names.csv\"\n",
    "\n",
    "df = pd.read_csv(data_path)\n",
    "df.head()"
   ]
  },
  {
   "cell_type": "markdown",
   "metadata": {},
   "source": [
    "This dataset is composed of 2535 observations, 73 attributes and 1 label. Next step is to name the columns."
   ]
  },
  {
   "cell_type": "code",
   "execution_count": 39,
   "metadata": {},
   "outputs": [
    {
     "data": {
      "text/plain": [
       "(2535, 74)"
      ]
     },
     "execution_count": 39,
     "metadata": {},
     "output_type": "execute_result"
    }
   ],
   "source": [
    "df.shape"
   ]
  },
  {
   "cell_type": "markdown",
   "metadata": {},
   "source": [
    "Extract column names from the .names file. "
   ]
  },
  {
   "cell_type": "code",
   "execution_count": 28,
   "metadata": {},
   "outputs": [
    {
     "data": {
      "text/plain": [
       "['Date',\n",
       " 'WSR0',\n",
       " 'WSR1',\n",
       " 'WSR2',\n",
       " 'WSR3',\n",
       " 'WSR4',\n",
       " 'WSR5',\n",
       " 'WSR6',\n",
       " 'WSR7',\n",
       " 'WSR8',\n",
       " 'WSR9',\n",
       " 'WSR10',\n",
       " 'WSR11',\n",
       " 'WSR12',\n",
       " 'WSR13',\n",
       " 'WSR14',\n",
       " 'WSR15',\n",
       " 'WSR16',\n",
       " 'WSR17',\n",
       " 'WSR18',\n",
       " 'WSR19',\n",
       " 'WSR20',\n",
       " 'WSR21',\n",
       " 'WSR22',\n",
       " 'WSR23',\n",
       " 'WSR_PK',\n",
       " 'WSR_AV',\n",
       " 'T0',\n",
       " 'T1',\n",
       " 'T2',\n",
       " 'T3',\n",
       " 'T4',\n",
       " 'T5',\n",
       " 'T6',\n",
       " 'T7',\n",
       " 'T8',\n",
       " 'T9',\n",
       " 'T10',\n",
       " 'T11',\n",
       " 'T12',\n",
       " 'T13',\n",
       " 'T14',\n",
       " 'T15',\n",
       " 'T16',\n",
       " 'T17',\n",
       " 'T18',\n",
       " 'T19',\n",
       " 'T20',\n",
       " 'T21',\n",
       " 'T22',\n",
       " 'T23',\n",
       " 'T_PK',\n",
       " 'T_AV',\n",
       " 'T85',\n",
       " 'RH85',\n",
       " 'U85',\n",
       " 'V85',\n",
       " 'HT85',\n",
       " 'T70',\n",
       " 'RH70',\n",
       " 'U70',\n",
       " 'V70',\n",
       " 'HT70',\n",
       " 'T50',\n",
       " 'RH50',\n",
       " 'U50',\n",
       " 'V50',\n",
       " 'HT50',\n",
       " 'KI',\n",
       " 'TT',\n",
       " 'SLP',\n",
       " 'SLP_',\n",
       " 'Precp',\n",
       " 'Result']"
      ]
     },
     "execution_count": 28,
     "metadata": {},
     "output_type": "execute_result"
    }
   ],
   "source": [
    "names = pd.read_csv(names_path,skiprows=53)\n",
    "names = names[\"1\"]\n",
    "#.split(\":\", 1)[0]\n",
    "\n",
    "def split_the_row(row):\n",
    "    return row.split(\":\", 1)[0]\n",
    "\n",
    "column_names = names.apply(lambda x: split_the_row(x))\n",
    "\n",
    "column_names_list = column_names.tolist()\n",
    "\n",
    "column_names_list.append(\"Result\")\n",
    "\n",
    "column_names_list"
   ]
  },
  {
   "cell_type": "code",
   "execution_count": 57,
   "metadata": {},
   "outputs": [],
   "source": [
    "name_replacement_dict = dict(zip(df.columns.tolist(), column_names_list))"
   ]
  },
  {
   "cell_type": "code",
   "execution_count": 52,
   "metadata": {},
   "outputs": [],
   "source": [
    "df.rename(columns = name_replacement_dict, inplace = True)"
   ]
  },
  {
   "cell_type": "code",
   "execution_count": 56,
   "metadata": {},
   "outputs": [
    {
     "data": {
      "text/plain": [
       "(2535, 74)"
      ]
     },
     "execution_count": 56,
     "metadata": {},
     "output_type": "execute_result"
    }
   ],
   "source": []
  },
  {
   "cell_type": "code",
   "execution_count": null,
   "metadata": {},
   "outputs": [],
   "source": []
  }
 ],
 "metadata": {
  "kernelspec": {
   "display_name": "Python 3.9.13 ('ozone_forecasting')",
   "language": "python",
   "name": "python3"
  },
  "language_info": {
   "codemirror_mode": {
    "name": "ipython",
    "version": 3
   },
   "file_extension": ".py",
   "mimetype": "text/x-python",
   "name": "python",
   "nbconvert_exporter": "python",
   "pygments_lexer": "ipython3",
   "version": "3.9.13"
  },
  "orig_nbformat": 4,
  "vscode": {
   "interpreter": {
    "hash": "d10168afc13358d82db5bb087a0697cee02c0cec10f8cef3e933f3158f07176c"
   }
  }
 },
 "nbformat": 4,
 "nbformat_minor": 2
}
